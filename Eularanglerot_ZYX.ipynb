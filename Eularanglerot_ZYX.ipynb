{
 "cells": [
  {
   "cell_type": "code",
   "execution_count": 156,
   "metadata": {},
   "outputs": [],
   "source": [
    "#cartesian coordinate\n",
    "import numpy as np\n",
    "import math\n",
    "from sympy import *\n",
    "np.set_printoptions(precision=16, suppress=True)\n"
   ]
  },
  {
   "cell_type": "code",
   "execution_count": 165,
   "metadata": {},
   "outputs": [],
   "source": [
    "normal1 = np.array(\n",
    " [[3.95573,-2.28032,-2.59614],\n",
    "[3.95587,2.28379,2.58154],\n",
    "[-3.88E-03,-4.57E+00,2.60E+00]])"
   ]
  },
  {
   "cell_type": "code",
   "execution_count": 166,
   "metadata": {},
   "outputs": [
    {
     "name": "stdout",
     "output_type": "stream",
     "text": [
      "[ 3.95573 -2.28032 -2.59614]\n"
     ]
    }
   ],
   "source": [
    "a1=normal1[0]\n",
    "print(a1)"
   ]
  },
  {
   "cell_type": "code",
   "execution_count": 159,
   "metadata": {},
   "outputs": [],
   "source": [
    "basis1 = np.array(\n",
    "    [[1, 0, 0],\n",
    "[0, 1, 0],\n",
    "[0, 0, 1]])"
   ]
  },
  {
   "cell_type": "code",
   "execution_count": 167,
   "metadata": {},
   "outputs": [
    {
     "name": "stdout",
     "output_type": "stream",
     "text": [
      "[5.252390125923625 5.246804074157906 5.257843194162413]\n",
      "5.252390125923625\n"
     ]
    }
   ],
   "source": [
    "#求normal1的模长\n",
    "data_M = np.sqrt(np.sum(normal1*normal1,axis=1))\n",
    "a1_=data_M[0]\n",
    "a1__=data_M[1]\n",
    "a1___=data_M[2]\n",
    "print(data_M)\n",
    "print(a1_)\n",
    "# norm_datam=a1/data_M\n",
    "# print(norm_datam)"
   ]
  },
  {
   "cell_type": "code",
   "execution_count": 170,
   "metadata": {},
   "outputs": [
    {
     "name": "stdout",
     "output_type": "stream",
     "text": [
      "[ 0.7531295096447906 -0.4341490150827303 -0.4942778311889908]\n",
      "1.0\n",
      "1.0\n",
      "[0.6517887813654737 0.4941690653654088 0.5590749470278168]\n",
      "[ 0.0015349762599486 -0.7432205859563885  0.6551467633520682]\n",
      "5.551115123125783e-17\n",
      "-5.551115123125783e-17\n",
      "0.0\n"
     ]
    }
   ],
   "source": [
    "#对整个normal1进行正交化，并求出新的Z方向轴\n",
    "nor_a1_=normal1[0]/a1_\n",
    "nor_a1__=normal1[1]/a1__\n",
    "#nor_a1___=normal1[2]/a1___\n",
    "print(nor_a1_)\n",
    "#print(nor_a1__)\n",
    "#print(nor_a1___) #不需要这个\n",
    "#验证x和y方向是不是单位向量\n",
    "x=np.sqrt(np.sum(nor_a1_.dot(nor_a1_)))\n",
    "y=np.sqrt(np.sum(nor_a1__.dot(nor_a1__)))\n",
    "print(x)\n",
    "print(y)\n",
    "#在x基础上得到与x垂直的y向量\n",
    "a2=nor_a1__-nor_a1_.dot(nor_a1__)/(nor_a1_.dot(nor_a1_))*nor_a1_\n",
    "print(a2)\n",
    "#得到新的z向量\n",
    "z=np.cross(nor_a1_,a2)\n",
    "print(z)\n",
    "#计算z向量的模长和新的y向量的模长\n",
    "z_z=np.sqrt(np.sum(z.dot(z)))\n",
    "a2_a2=np.sqrt(np.sum(a2.dot(a2)))\n",
    "#print(z_z)\n",
    "#print(a2_a2)\n",
    "#test验证是否xyz互相垂直\n",
    "xy=nor_a1_.dot(a2)\n",
    "xz=nor_a1_.dot(z)\n",
    "yz=a2.dot(z)\n",
    "print(xy)\n",
    "print(xz)\n",
    "print(yz)\n"
   ]
  },
  {
   "cell_type": "code",
   "execution_count": 171,
   "metadata": {},
   "outputs": [
    {
     "name": "stdout",
     "output_type": "stream",
     "text": [
      "[[ 0.7531295096447906 -0.4341490150827303 -0.4942778311889908]\n",
      " [ 0.6517887813654737  0.4941690653654088  0.5590749470278168]\n",
      " [ 0.0015349762599486 -0.7432205859563885  0.6551467633520682]]\n"
     ]
    }
   ],
   "source": [
    "#以自己定的三个轴为新的坐标系basis2, 新的i,j,k\n",
    "basis2=np.array([nor_a1_,a2,z])\n",
    "print(basis2)"
   ]
  },
  {
   "cell_type": "code",
   "execution_count": 173,
   "metadata": {
    "scrolled": true
   },
   "outputs": [
    {
     "name": "stdout",
     "output_type": "stream",
     "text": [
      "[ 0.7531295096447906 -0.4341490150827303 -0.4942778311889908]\n",
      "[0.6578704594185799 0.4987800332821328 0.56429153548805  ]\n",
      "[ 0.0015492987394067 -0.7501553913035417  0.6612597738949847]\n",
      "[[ 0.7531295096447906 -0.4341490150827303 -0.4942778311889908]\n",
      " [ 0.6578704594185799  0.4987800332821328  0.56429153548805  ]\n",
      " [ 0.0015492987394067 -0.7501553913035417  0.6612597738949847]]\n"
     ]
    }
   ],
   "source": [
    "#将旋转矩阵进行单位化\n",
    "A=basis2[0]/np.sqrt(np.sum(np.dot(basis2[0],basis2[0])))\n",
    "B=basis2[1]/np.sqrt(np.sum(np.dot(basis2[1],basis2[1])))\n",
    "C=basis2[2]/np.sqrt(np.sum(np.dot(basis2[2],basis2[2])))\n",
    "print(A)\n",
    "print(B)\n",
    "print(C)\n",
    "basis2_=np.array([A,B,C])\n",
    "print(basis2_)\n"
   ]
  },
  {
   "cell_type": "code",
   "execution_count": 174,
   "metadata": {},
   "outputs": [
    {
     "name": "stdout",
     "output_type": "stream",
     "text": [
      "[[1 0 0]\n",
      " [0 1 0]\n",
      " [0 0 1]]\n",
      "[[ 0.7531295096447906  0.6578704594185799  0.0015492987394067]\n",
      " [-0.4341490150827303  0.4987800332821328 -0.7501553913035417]\n",
      " [-0.4942778311889908  0.56429153548805    0.6612597738949847]]\n",
      "第1组绕ZYX角度为,phi1,theta1,posi1: -29.96172749288106 29.622140977282864 40.476060210072454\n",
      "第2组绕ZYX角度为,phi2,theta2,posi2: 150.03827250711896 150.37785902271713 -139.52393978992754\n"
     ]
    }
   ],
   "source": [
    "#RA=B\n",
    "basis1_inver=np.linalg.inv(basis1)\n",
    "print(basis1)\n",
    "R=np.matmul(basis2_.T,basis1_inver)\n",
    "print(R)\n",
    "#Rzxy,Zphi,Ytheta,xposi,求出来的角度需要按XYZ轴开始绕\n",
    "theta1=np.degrees(-np.arcsin(R[2,0]))\n",
    "theta2=180-theta1\n",
    "posi1=np.degrees(math.atan2(R[2,1]/np.cos(np.deg2rad(theta1)),R[2,2]/np.cos(np.deg2rad(theta1))))\n",
    "posi2=np.degrees(math.atan2(R[2,1]/np.cos(np.deg2rad(theta2)),R[2,2]/np.cos(np.deg2rad(theta2))))\n",
    "phi1=np.degrees(math.atan2(R[1,0]/np.cos(np.deg2rad(theta1)),R[0,0]/np.cos(np.deg2rad(theta1))))\n",
    "phi2=np.degrees(math.atan2(R[1,0]/np.cos(np.deg2rad(theta2)),R[0,0]/np.cos(np.deg2rad(theta2))))\n",
    "print('第1组绕ZYX角度为,phi1,theta1,posi1:',phi1,theta1,posi1)\n",
    "print('第2组绕ZYX角度为,phi2,theta2,posi2:',phi2,theta2,posi2)"
   ]
  },
  {
   "cell_type": "code",
   "execution_count": null,
   "metadata": {},
   "outputs": [],
   "source": []
  },
  {
   "cell_type": "code",
   "execution_count": null,
   "metadata": {},
   "outputs": [],
   "source": []
  },
  {
   "cell_type": "code",
   "execution_count": null,
   "metadata": {},
   "outputs": [],
   "source": []
  },
  {
   "cell_type": "code",
   "execution_count": null,
   "metadata": {},
   "outputs": [],
   "source": []
  },
  {
   "cell_type": "code",
   "execution_count": null,
   "metadata": {},
   "outputs": [],
   "source": []
  },
  {
   "cell_type": "code",
   "execution_count": null,
   "metadata": {},
   "outputs": [],
   "source": []
  },
  {
   "cell_type": "code",
   "execution_count": null,
   "metadata": {},
   "outputs": [],
   "source": []
  },
  {
   "cell_type": "code",
   "execution_count": null,
   "metadata": {},
   "outputs": [],
   "source": []
  },
  {
   "cell_type": "code",
   "execution_count": null,
   "metadata": {},
   "outputs": [],
   "source": []
  },
  {
   "cell_type": "code",
   "execution_count": null,
   "metadata": {},
   "outputs": [],
   "source": []
  },
  {
   "cell_type": "code",
   "execution_count": null,
   "metadata": {},
   "outputs": [],
   "source": []
  },
  {
   "cell_type": "code",
   "execution_count": null,
   "metadata": {},
   "outputs": [],
   "source": []
  },
  {
   "cell_type": "code",
   "execution_count": null,
   "metadata": {},
   "outputs": [],
   "source": []
  },
  {
   "cell_type": "code",
   "execution_count": null,
   "metadata": {},
   "outputs": [],
   "source": []
  },
  {
   "cell_type": "code",
   "execution_count": null,
   "metadata": {},
   "outputs": [],
   "source": []
  },
  {
   "cell_type": "code",
   "execution_count": null,
   "metadata": {},
   "outputs": [],
   "source": [
    "\n"
   ]
  },
  {
   "cell_type": "code",
   "execution_count": null,
   "metadata": {
    "scrolled": true
   },
   "outputs": [],
   "source": []
  },
  {
   "cell_type": "code",
   "execution_count": null,
   "metadata": {},
   "outputs": [],
   "source": []
  },
  {
   "cell_type": "code",
   "execution_count": null,
   "metadata": {},
   "outputs": [],
   "source": []
  },
  {
   "cell_type": "code",
   "execution_count": null,
   "metadata": {},
   "outputs": [],
   "source": []
  },
  {
   "cell_type": "code",
   "execution_count": null,
   "metadata": {},
   "outputs": [],
   "source": []
  },
  {
   "cell_type": "code",
   "execution_count": null,
   "metadata": {},
   "outputs": [],
   "source": []
  },
  {
   "cell_type": "code",
   "execution_count": null,
   "metadata": {},
   "outputs": [],
   "source": []
  },
  {
   "cell_type": "code",
   "execution_count": null,
   "metadata": {},
   "outputs": [],
   "source": []
  },
  {
   "cell_type": "code",
   "execution_count": null,
   "metadata": {},
   "outputs": [],
   "source": []
  },
  {
   "cell_type": "code",
   "execution_count": null,
   "metadata": {},
   "outputs": [],
   "source": []
  },
  {
   "cell_type": "code",
   "execution_count": null,
   "metadata": {},
   "outputs": [],
   "source": []
  },
  {
   "cell_type": "code",
   "execution_count": null,
   "metadata": {},
   "outputs": [],
   "source": []
  },
  {
   "cell_type": "code",
   "execution_count": null,
   "metadata": {},
   "outputs": [],
   "source": []
  },
  {
   "cell_type": "code",
   "execution_count": null,
   "metadata": {},
   "outputs": [],
   "source": []
  },
  {
   "cell_type": "code",
   "execution_count": null,
   "metadata": {},
   "outputs": [],
   "source": []
  },
  {
   "cell_type": "code",
   "execution_count": null,
   "metadata": {},
   "outputs": [],
   "source": []
  },
  {
   "cell_type": "code",
   "execution_count": null,
   "metadata": {},
   "outputs": [],
   "source": []
  },
  {
   "cell_type": "code",
   "execution_count": null,
   "metadata": {},
   "outputs": [],
   "source": []
  },
  {
   "cell_type": "code",
   "execution_count": null,
   "metadata": {},
   "outputs": [],
   "source": []
  },
  {
   "cell_type": "code",
   "execution_count": null,
   "metadata": {},
   "outputs": [],
   "source": []
  },
  {
   "cell_type": "code",
   "execution_count": null,
   "metadata": {},
   "outputs": [],
   "source": []
  },
  {
   "cell_type": "code",
   "execution_count": null,
   "metadata": {},
   "outputs": [],
   "source": []
  },
  {
   "cell_type": "code",
   "execution_count": null,
   "metadata": {},
   "outputs": [],
   "source": []
  }
 ],
 "metadata": {
  "kernelspec": {
   "display_name": "Python 3 (ipykernel)",
   "language": "python",
   "name": "python3"
  },
  "language_info": {
   "codemirror_mode": {
    "name": "ipython",
    "version": 3
   },
   "file_extension": ".py",
   "mimetype": "text/x-python",
   "name": "python",
   "nbconvert_exporter": "python",
   "pygments_lexer": "ipython3",
   "version": "3.9.12"
  }
 },
 "nbformat": 4,
 "nbformat_minor": 4
}
